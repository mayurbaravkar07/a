{
 "cells": [
  {
   "cell_type": "code",
   "execution_count": 1,
   "id": "9cdb6240",
   "metadata": {},
   "outputs": [],
   "source": [
    "import pandas as pd\n",
    "import numpy as np\n"
   ]
  },
  {
   "cell_type": "markdown",
   "id": "1e6d492d",
   "metadata": {},
   "source": [
    "## ANDNOT"
   ]
  },
  {
   "cell_type": "code",
   "execution_count": 7,
   "id": "6624c20b",
   "metadata": {},
   "outputs": [
    {
     "name": "stdout",
     "output_type": "stream",
     "text": [
      "[[1 1]\n",
      " [1 0]\n",
      " [0 1]\n",
      " [0 0]]\n"
     ]
    }
   ],
   "source": [
    "# Input vectors weight\n",
    "x=np.array([[1,1],[1,0],[0,1],[0,0]])\n",
    "print(x)\n",
    "# Weights\n",
    "w=np.array([1,-1])"
   ]
  },
  {
   "cell_type": "code",
   "execution_count": 19,
   "id": "fa425e84",
   "metadata": {},
   "outputs": [],
   "source": [
    "# Aggregation\n",
    "p=x@w"
   ]
  },
  {
   "cell_type": "code",
   "execution_count": 26,
   "id": "4e3b76b5",
   "metadata": {},
   "outputs": [
    {
     "name": "stdout",
     "output_type": "stream",
     "text": [
      "0\n",
      "1\n",
      "0\n",
      "0\n"
     ]
    }
   ],
   "source": [
    "# Implementing the AND NOT Function\n",
    "T=1\n",
    "for i in range(len(p)):\n",
    "    if(p[i]>=T):\n",
    "        print(1)\n",
    "    else:\n",
    "        print(0)"
   ]
  },
  {
   "cell_type": "markdown",
   "id": "15a97a31",
   "metadata": {},
   "source": [
    "## OR"
   ]
  },
  {
   "cell_type": "code",
   "execution_count": 30,
   "id": "e9eea1a4",
   "metadata": {},
   "outputs": [
    {
     "name": "stdout",
     "output_type": "stream",
     "text": [
      "[1 1]\n",
      "1\n",
      "1\n",
      "1\n",
      "0\n"
     ]
    }
   ],
   "source": [
    "w1=np.array([1,1])\n",
    "print(w1)\n",
    "\n",
    "p=x@w1\n",
    "T=1\n",
    "for i in range(len(p)):\n",
    "    if(p[i]>=T):\n",
    "        print(1)\n",
    "    else:\n",
    "        print(0)"
   ]
  },
  {
   "cell_type": "markdown",
   "id": "0141c1cc",
   "metadata": {},
   "source": [
    "## AND"
   ]
  },
  {
   "cell_type": "code",
   "execution_count": 31,
   "id": "8fbec6f3",
   "metadata": {},
   "outputs": [
    {
     "name": "stdout",
     "output_type": "stream",
     "text": [
      "1\n",
      "0\n",
      "0\n",
      "0\n"
     ]
    }
   ],
   "source": [
    "# w2=np.array([1,-1])\n",
    "# p2=x@w2\n",
    "T=2\n",
    "for i in range(len(p2)):\n",
    "    if(p[i]>=T):\n",
    "        print(1)\n",
    "    else:\n",
    "        print(0)"
   ]
  },
  {
   "cell_type": "markdown",
   "id": "983a2690",
   "metadata": {},
   "source": [
    "## XOR"
   ]
  },
  {
   "cell_type": "code",
   "execution_count": 33,
   "id": "c9c3ece5",
   "metadata": {},
   "outputs": [
    {
     "name": "stdout",
     "output_type": "stream",
     "text": [
      "0\n",
      "1\n",
      "1\n",
      "0\n"
     ]
    }
   ],
   "source": [
    "T=1\n",
    "for i in range(len(p)):\n",
    "    if(p[i]==T):\n",
    "        print(1)\n",
    "    else:\n",
    "        print(0)"
   ]
  },
  {
   "cell_type": "markdown",
   "id": "c5333329",
   "metadata": {},
   "source": [
    "## NAND"
   ]
  },
  {
   "cell_type": "code",
   "execution_count": 34,
   "id": "ce4b58eb",
   "metadata": {},
   "outputs": [
    {
     "name": "stdout",
     "output_type": "stream",
     "text": [
      "0\n",
      "1\n",
      "1\n",
      "1\n"
     ]
    }
   ],
   "source": [
    "T=1\n",
    "for i in range(len(p)):\n",
    "    if(p[i]<=T):\n",
    "        print(1)\n",
    "    else:\n",
    "        print(0)"
   ]
  },
  {
   "cell_type": "code",
   "execution_count": null,
   "id": "e849e3cd",
   "metadata": {},
   "outputs": [],
   "source": []
  }
 ],
 "metadata": {
  "kernelspec": {
   "display_name": "Python 3 (ipykernel)",
   "language": "python",
   "name": "python3"
  },
  "language_info": {
   "codemirror_mode": {
    "name": "ipython",
    "version": 3
   },
   "file_extension": ".py",
   "mimetype": "text/x-python",
   "name": "python",
   "nbconvert_exporter": "python",
   "pygments_lexer": "ipython3",
   "version": "3.8.10"
  }
 },
 "nbformat": 4,
 "nbformat_minor": 5
}
