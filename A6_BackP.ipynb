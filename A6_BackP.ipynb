{
 "cells": [
  {
   "cell_type": "code",
   "execution_count": 4,
   "id": "24bd52ba",
   "metadata": {},
   "outputs": [],
   "source": [
    "import numpy as np"
   ]
  },
  {
   "cell_type": "code",
   "execution_count": 34,
   "id": "c0d9b411",
   "metadata": {},
   "outputs": [],
   "source": [
    "X1 = np.array([[1, -1, 1, -1]])\n",
    "X2 = np.array([[-1, -1, 1, 1]])\n",
    "X3 = np.array([[1, 1, -1, -1]])\n",
    "X4 = np.array([[1, 1, 1, 1]])\n",
    "\n",
    "\n",
    "\n",
    "# X1 = np.array([[1, 1, 1, 1, 1, 1]])\n",
    "# X2 = np.array([[-1, -1, -1, -1, -1, -1]])\n",
    "# X3 = np.array([[1, -1, -1, 1, 1, 1]])\n",
    "# X4 = np.array([[1, 1, -1, -1, -1, -1]])\n",
    "\n",
    "X=[X1, X2, X3, X4]\n",
    "\n",
    "Y1 = np.array([[1 ,0 ,1]])\n",
    "Y2 = np.array([[1, 1, 1]])\n",
    "Y3 = np.array([[0, 1, 1]])\n",
    "Y4 = np.array([[1, 1, 0]])\n",
    "\n",
    "# Y1 = np.array([[1, 1, 1]])\n",
    "# Y2 = np.array([[-1, -1, -1]])\n",
    "# Y3 = np.array([[-1, 1, 1]])\n",
    "# Y4 = np.array([[1, -1, 1]])\n",
    "\n",
    "\n",
    "Y= [Y1, Y2, Y3, Y4]"
   ]
  },
  {
   "cell_type": "code",
   "execution_count": 35,
   "id": "93a7e2c3",
   "metadata": {},
   "outputs": [],
   "source": [
    "def calcWeight(X, Y):\n",
    "    return np.dot(X.T, Y)"
   ]
  },
  {
   "cell_type": "code",
   "execution_count": 36,
   "id": "1303f7d4",
   "metadata": {},
   "outputs": [],
   "source": [
    "def weights(X,Y):\n",
    "    weis=[]\n",
    "    for i in range(4):\n",
    "        weis.append(calcWeight(X[i], Y[i]))\n",
    "    return weis"
   ]
  },
  {
   "cell_type": "code",
   "execution_count": 37,
   "id": "6a7b231b",
   "metadata": {},
   "outputs": [],
   "source": [
    "weis=weights(X,Y)"
   ]
  },
  {
   "cell_type": "code",
   "execution_count": 38,
   "id": "22ab570d",
   "metadata": {},
   "outputs": [],
   "source": [
    "def forward_aggregation(X,W):\n",
    "    result=[]\n",
    "    for i in range(len(X)):\n",
    "        result.append(X[i]@W[i])\n",
    "    return np.squeeze(result)"
   ]
  },
  {
   "cell_type": "code",
   "execution_count": 39,
   "id": "c3db85dd",
   "metadata": {},
   "outputs": [],
   "source": [
    "def activation(X):\n",
    "    X = np.array(X)\n",
    "    X[X > 0] = 1\n",
    "    X[X == 0] = 0\n",
    "    X[X < 0] = -1\n",
    "    return X"
   ]
  },
  {
   "cell_type": "code",
   "execution_count": 40,
   "id": "cab9f08f",
   "metadata": {},
   "outputs": [],
   "source": [
    "for_aggri = forward_aggregation(X, weis)"
   ]
  },
  {
   "cell_type": "code",
   "execution_count": 41,
   "id": "bcf32aa4",
   "metadata": {},
   "outputs": [
    {
     "data": {
      "text/plain": [
       "array([[4, 0, 4],\n",
       "       [4, 4, 4],\n",
       "       [0, 4, 4],\n",
       "       [4, 4, 0]])"
      ]
     },
     "execution_count": 41,
     "metadata": {},
     "output_type": "execute_result"
    }
   ],
   "source": [
    "for_aggri"
   ]
  },
  {
   "cell_type": "code",
   "execution_count": 42,
   "id": "bb08735d",
   "metadata": {},
   "outputs": [
    {
     "name": "stdout",
     "output_type": "stream",
     "text": [
      "[[1 0 1]\n",
      " [1 1 1]\n",
      " [0 1 1]\n",
      " [1 1 0]]\n"
     ]
    }
   ],
   "source": [
    "print(activation(for_aggri))"
   ]
  },
  {
   "cell_type": "code",
   "execution_count": 43,
   "id": "ba4b7a76",
   "metadata": {},
   "outputs": [],
   "source": [
    "def backward_aggregation(X,W):\n",
    "    result=[]\n",
    "    for i in range(len(X)):\n",
    "        result.append(W[i]@X[i].T)\n",
    "    return np.squeeze(result)"
   ]
  },
  {
   "cell_type": "code",
   "execution_count": 44,
   "id": "61e686c3",
   "metadata": {},
   "outputs": [],
   "source": [
    "back_aggri = backward_aggregation(Y, weis)"
   ]
  },
  {
   "cell_type": "code",
   "execution_count": 45,
   "id": "b5afc17d",
   "metadata": {},
   "outputs": [
    {
     "data": {
      "text/plain": [
       "array([[ 2, -2,  2, -2],\n",
       "       [-3, -3,  3,  3],\n",
       "       [ 2,  2, -2, -2],\n",
       "       [ 2,  2,  2,  2]])"
      ]
     },
     "execution_count": 45,
     "metadata": {},
     "output_type": "execute_result"
    }
   ],
   "source": [
    "back_aggri"
   ]
  },
  {
   "cell_type": "code",
   "execution_count": 46,
   "id": "cb9081ae",
   "metadata": {},
   "outputs": [
    {
     "name": "stdout",
     "output_type": "stream",
     "text": [
      "[[ 1 -1  1 -1]\n",
      " [-1 -1  1  1]\n",
      " [ 1  1 -1 -1]\n",
      " [ 1  1  1  1]]\n"
     ]
    }
   ],
   "source": [
    "print(activation(back_aggri))"
   ]
  },
  {
   "cell_type": "code",
   "execution_count": null,
   "id": "10406423",
   "metadata": {},
   "outputs": [],
   "source": []
  }
 ],
 "metadata": {
  "kernelspec": {
   "display_name": "Python 3 (ipykernel)",
   "language": "python",
   "name": "python3"
  },
  "language_info": {
   "codemirror_mode": {
    "name": "ipython",
    "version": 3
   },
   "file_extension": ".py",
   "mimetype": "text/x-python",
   "name": "python",
   "nbconvert_exporter": "python",
   "pygments_lexer": "ipython3",
   "version": "3.8.10"
  }
 },
 "nbformat": 4,
 "nbformat_minor": 5
}
