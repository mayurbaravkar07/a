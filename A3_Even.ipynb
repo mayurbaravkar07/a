{
 "cells": [
  {
   "cell_type": "code",
   "execution_count": 2,
   "id": "633f9e1a",
   "metadata": {},
   "outputs": [],
   "source": [
    "import numpy as np"
   ]
  },
  {
   "cell_type": "code",
   "execution_count": 3,
   "id": "4fa3748d",
   "metadata": {},
   "outputs": [],
   "source": [
    "# Training data\n",
    "X = np.array([\n",
    "    [0, 0, 0, 0, 0, 0, 0, 0],  # 0\n",
    "    [0, 0, 0, 0, 0, 0, 0, 1],  # 1\n",
    "    [0, 0, 0, 0, 0, 0, 1, 0],  # 2\n",
    "    [0, 0, 0, 0, 0, 0, 1, 1],  # 3\n",
    "    [0, 0, 0, 0, 0, 1, 0, 0],  # 4\n",
    "    [0, 0, 0, 0, 0, 1, 0, 1],  # 5\n",
    "    [0, 0, 0, 0, 0, 1, 1, 0],  # 6\n",
    "    [0, 0, 0, 0, 0, 1, 1, 1],  # 7\n",
    "    [0, 0, 0, 0, 1, 0, 0, 0],  # 8\n",
    "    [0, 0, 0, 0, 1, 0, 0, 1]   # 9\n",
    "])\n",
    "y = np.array([0, 1, 0, 1, 0, 1, 0, 1, 0, 1]) # Even (0) or odd (1)\n"
   ]
  },
  {
   "cell_type": "code",
   "execution_count": 4,
   "id": "a619938d",
   "metadata": {},
   "outputs": [],
   "source": [
    "class Perceptron:\n",
    "    def __init__(self, learning_rate = 0.1 , n_iter = 10):\n",
    "        self.lr = learning_rate\n",
    "        self.n_iter = n_iter\n",
    "        \n",
    "    def Fit(self, X ,y):\n",
    "        self.weights = np.zeros(X.shape[1])\n",
    "        self.bias = 0\n",
    "        \n",
    "        for i in range(self.n_iter):\n",
    "            for xi,yi in zip(X,y):\n",
    "                output = self.predict(xi)\n",
    "                error = yi - output\n",
    "                self.weights = self.weights  + self.lr*error*xi\n",
    "                self.bias = self.bias + self.lr * error\n",
    "                \n",
    "                \n",
    "    def predict(self,X):\n",
    "        return int(np.dot(X , self.weights) + self.bias >= 0 )\n",
    "                "
   ]
  },
  {
   "cell_type": "code",
   "execution_count": 5,
   "id": "087909a9",
   "metadata": {},
   "outputs": [],
   "source": [
    "p = Perceptron()\n",
    "p.Fit(X,y)"
   ]
  },
  {
   "cell_type": "code",
   "execution_count": 6,
   "id": "47d441ce",
   "metadata": {},
   "outputs": [],
   "source": [
    "test_data = np.array([[0,0,1,0,1,1,0,0], # 44 (even)\n",
    "                      [0,0,1,0,1,1,0,1], # 45 (odd)\n",
    "                      [1,1,1,1,1,1,1,1]])# 255 (odd)"
   ]
  },
  {
   "cell_type": "code",
   "execution_count": 7,
   "id": "234e3baf",
   "metadata": {},
   "outputs": [
    {
     "name": "stdout",
     "output_type": "stream",
     "text": [
      "[0 0 1 0 1 1 0 0] : 0\n",
      "[0 0 1 0 1 1 0 1] : 1\n",
      "[1 1 1 1 1 1 1 1] : 1\n"
     ]
    }
   ],
   "source": [
    "for xi in test_data:\n",
    "    prediction = p.predict(xi)\n",
    "    print(f\"{xi} : {prediction}\")"
   ]
  },
  {
   "cell_type": "code",
   "execution_count": null,
   "id": "4a065a79",
   "metadata": {},
   "outputs": [],
   "source": []
  }
 ],
 "metadata": {
  "kernelspec": {
   "display_name": "Python 3 (ipykernel)",
   "language": "python",
   "name": "python3"
  },
  "language_info": {
   "codemirror_mode": {
    "name": "ipython",
    "version": 3
   },
   "file_extension": ".py",
   "mimetype": "text/x-python",
   "name": "python",
   "nbconvert_exporter": "python",
   "pygments_lexer": "ipython3",
   "version": "3.8.10"
  }
 },
 "nbformat": 4,
 "nbformat_minor": 5
}
